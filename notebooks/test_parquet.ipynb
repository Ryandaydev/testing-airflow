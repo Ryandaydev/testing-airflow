{
 "cells": [
  {
   "cell_type": "markdown",
   "metadata": {},
   "source": [
    "**This notebook is for testing the python code for reading parquet files**"
   ]
  },
  {
   "cell_type": "code",
   "execution_count": 2,
   "metadata": {},
   "outputs": [],
   "source": [
    "#https://github.com/handsonapibook/apibook-part-one/raw/main/bulk/player_data.parquet\n",
    "\n",
    "\n"
   ]
  },
  {
   "cell_type": "markdown",
   "metadata": {},
   "source": [
    "**To start, just work with the file locally**"
   ]
  },
  {
   "cell_type": "code",
   "execution_count": 3,
   "metadata": {},
   "outputs": [],
   "source": [
    "import pyarrow.parquet as pq\n",
    "import pandas as pd"
   ]
  },
  {
   "cell_type": "code",
   "execution_count": 4,
   "metadata": {},
   "outputs": [],
   "source": [
    "parquet_file_path = \"player_data.parquet\"\n",
    "\n",
    "parquet_file = pq.ParquetFile(parquet_file_path)"
   ]
  },
  {
   "cell_type": "code",
   "execution_count": 5,
   "metadata": {},
   "outputs": [
    {
     "data": {
      "text/html": [
       "<div>\n",
       "<style scoped>\n",
       "    .dataframe tbody tr th:only-of-type {\n",
       "        vertical-align: middle;\n",
       "    }\n",
       "\n",
       "    .dataframe tbody tr th {\n",
       "        vertical-align: top;\n",
       "    }\n",
       "\n",
       "    .dataframe thead th {\n",
       "        text-align: right;\n",
       "    }\n",
       "</style>\n",
       "<table border=\"1\" class=\"dataframe\">\n",
       "  <thead>\n",
       "    <tr style=\"text-align: right;\">\n",
       "      <th></th>\n",
       "      <th>player_id</th>\n",
       "      <th>gsis_id</th>\n",
       "      <th>first_name</th>\n",
       "      <th>last_name</th>\n",
       "      <th>position</th>\n",
       "      <th>last_changed_date</th>\n",
       "    </tr>\n",
       "  </thead>\n",
       "  <tbody>\n",
       "    <tr>\n",
       "      <th>0</th>\n",
       "      <td>1001</td>\n",
       "      <td>00-0023459</td>\n",
       "      <td>Aaron</td>\n",
       "      <td>Rodgers</td>\n",
       "      <td>QB</td>\n",
       "      <td>2024-04-18</td>\n",
       "    </tr>\n",
       "    <tr>\n",
       "      <th>1</th>\n",
       "      <td>1002</td>\n",
       "      <td>00-0023853</td>\n",
       "      <td>Matt</td>\n",
       "      <td>Prater</td>\n",
       "      <td>K</td>\n",
       "      <td>2024-04-18</td>\n",
       "    </tr>\n",
       "    <tr>\n",
       "      <th>2</th>\n",
       "      <td>1003</td>\n",
       "      <td>00-0024243</td>\n",
       "      <td>Marcedes</td>\n",
       "      <td>Lewis</td>\n",
       "      <td>TE</td>\n",
       "      <td>2024-04-18</td>\n",
       "    </tr>\n",
       "    <tr>\n",
       "      <th>3</th>\n",
       "      <td>1004</td>\n",
       "      <td>00-0025565</td>\n",
       "      <td>Nick</td>\n",
       "      <td>Folk</td>\n",
       "      <td>K</td>\n",
       "      <td>2024-04-18</td>\n",
       "    </tr>\n",
       "    <tr>\n",
       "      <th>4</th>\n",
       "      <td>1005</td>\n",
       "      <td>00-0025580</td>\n",
       "      <td>Mason</td>\n",
       "      <td>Crosby</td>\n",
       "      <td>K</td>\n",
       "      <td>2024-04-18</td>\n",
       "    </tr>\n",
       "  </tbody>\n",
       "</table>\n",
       "</div>"
      ],
      "text/plain": [
       "   player_id     gsis_id first_name last_name position last_changed_date\n",
       "0       1001  00-0023459      Aaron   Rodgers       QB        2024-04-18\n",
       "1       1002  00-0023853       Matt    Prater        K        2024-04-18\n",
       "2       1003  00-0024243   Marcedes     Lewis       TE        2024-04-18\n",
       "3       1004  00-0025565       Nick      Folk        K        2024-04-18\n",
       "4       1005  00-0025580      Mason    Crosby        K        2024-04-18"
      ]
     },
     "execution_count": 5,
     "metadata": {},
     "output_type": "execute_result"
    }
   ],
   "source": [
    "player_df = pd.read_parquet(parquet_file_path)\n",
    "player_df.head()"
   ]
  },
  {
   "cell_type": "markdown",
   "metadata": {},
   "source": [
    "**Now download the file with httpx**"
   ]
  },
  {
   "cell_type": "code",
   "execution_count": 6,
   "metadata": {},
   "outputs": [],
   "source": [
    "import httpx\n",
    "\n",
    "parquet_file_url = \"https://raw.githubusercontent.com/handsonapibook/apibook-part-one/main/bulk/player_data.parquet\"\n",
    "\n",
    "player_file_local_path = \"player_data_downloaded.parquet\"\n",
    "\n",
    "with httpx.Client() as client:\n",
    "    response = client.get(parquet_file_url)\n",
    "    response.raise_for_status()  # Check if the request was successful\n",
    "    \n",
    "    # Save the file content locally\n",
    "    with open(player_file_local_path, 'wb') as file:\n",
    "        file.write(response.content)\n"
   ]
  },
  {
   "cell_type": "markdown",
   "metadata": {},
   "source": [
    "**Now try grabbing file and turning it to a dataframe without storing it locally**"
   ]
  },
  {
   "cell_type": "code",
   "execution_count": 7,
   "metadata": {},
   "outputs": [
    {
     "data": {
      "text/html": [
       "<div>\n",
       "<style scoped>\n",
       "    .dataframe tbody tr th:only-of-type {\n",
       "        vertical-align: middle;\n",
       "    }\n",
       "\n",
       "    .dataframe tbody tr th {\n",
       "        vertical-align: top;\n",
       "    }\n",
       "\n",
       "    .dataframe thead th {\n",
       "        text-align: right;\n",
       "    }\n",
       "</style>\n",
       "<table border=\"1\" class=\"dataframe\">\n",
       "  <thead>\n",
       "    <tr style=\"text-align: right;\">\n",
       "      <th></th>\n",
       "      <th>player_id</th>\n",
       "      <th>gsis_id</th>\n",
       "      <th>first_name</th>\n",
       "      <th>last_name</th>\n",
       "      <th>position</th>\n",
       "      <th>last_changed_date</th>\n",
       "    </tr>\n",
       "  </thead>\n",
       "  <tbody>\n",
       "    <tr>\n",
       "      <th>0</th>\n",
       "      <td>1001</td>\n",
       "      <td>00-0023459</td>\n",
       "      <td>Aaron</td>\n",
       "      <td>Rodgers</td>\n",
       "      <td>QB</td>\n",
       "      <td>2024-04-18</td>\n",
       "    </tr>\n",
       "    <tr>\n",
       "      <th>1</th>\n",
       "      <td>1002</td>\n",
       "      <td>00-0023853</td>\n",
       "      <td>Matt</td>\n",
       "      <td>Prater</td>\n",
       "      <td>K</td>\n",
       "      <td>2024-04-18</td>\n",
       "    </tr>\n",
       "    <tr>\n",
       "      <th>2</th>\n",
       "      <td>1003</td>\n",
       "      <td>00-0024243</td>\n",
       "      <td>Marcedes</td>\n",
       "      <td>Lewis</td>\n",
       "      <td>TE</td>\n",
       "      <td>2024-04-18</td>\n",
       "    </tr>\n",
       "    <tr>\n",
       "      <th>3</th>\n",
       "      <td>1004</td>\n",
       "      <td>00-0025565</td>\n",
       "      <td>Nick</td>\n",
       "      <td>Folk</td>\n",
       "      <td>K</td>\n",
       "      <td>2024-04-18</td>\n",
       "    </tr>\n",
       "    <tr>\n",
       "      <th>4</th>\n",
       "      <td>1005</td>\n",
       "      <td>00-0025580</td>\n",
       "      <td>Mason</td>\n",
       "      <td>Crosby</td>\n",
       "      <td>K</td>\n",
       "      <td>2024-04-18</td>\n",
       "    </tr>\n",
       "  </tbody>\n",
       "</table>\n",
       "</div>"
      ],
      "text/plain": [
       "   player_id     gsis_id first_name last_name position last_changed_date\n",
       "0       1001  00-0023459      Aaron   Rodgers       QB        2024-04-18\n",
       "1       1002  00-0023853       Matt    Prater        K        2024-04-18\n",
       "2       1003  00-0024243   Marcedes     Lewis       TE        2024-04-18\n",
       "3       1004  00-0025565       Nick      Folk        K        2024-04-18\n",
       "4       1005  00-0025580      Mason    Crosby        K        2024-04-18"
      ]
     },
     "execution_count": 7,
     "metadata": {},
     "output_type": "execute_result"
    }
   ],
   "source": [
    "from io import BytesIO\n",
    "\n",
    "parquet_file_url = \"https://raw.githubusercontent.com/handsonapibook/apibook-part-one/main/bulk/player_data.parquet\"\n",
    "\n",
    "with httpx.Client() as client:\n",
    "    player_response = client.get(parquet_file_url)\n",
    "    player_response.raise_for_status()  \n",
    "    \n",
    "    player_internet_df = pd.read_parquet(BytesIO(player_response.content))\n",
    "\n",
    "player_internet_df.head()"
   ]
  },
  {
   "cell_type": "code",
   "execution_count": 8,
   "metadata": {},
   "outputs": [
    {
     "data": {
      "text/html": [
       "<div>\n",
       "<style scoped>\n",
       "    .dataframe tbody tr th:only-of-type {\n",
       "        vertical-align: middle;\n",
       "    }\n",
       "\n",
       "    .dataframe tbody tr th {\n",
       "        vertical-align: top;\n",
       "    }\n",
       "\n",
       "    .dataframe thead th {\n",
       "        text-align: right;\n",
       "    }\n",
       "</style>\n",
       "<table border=\"1\" class=\"dataframe\">\n",
       "  <thead>\n",
       "    <tr style=\"text-align: right;\">\n",
       "      <th></th>\n",
       "      <th>player_id</th>\n",
       "      <th>gsis_id</th>\n",
       "      <th>first_name</th>\n",
       "      <th>last_name</th>\n",
       "      <th>position</th>\n",
       "      <th>last_changed_date</th>\n",
       "    </tr>\n",
       "  </thead>\n",
       "  <tbody>\n",
       "    <tr>\n",
       "      <th>0</th>\n",
       "      <td>1001</td>\n",
       "      <td>00-0023459</td>\n",
       "      <td>Aaron</td>\n",
       "      <td>Rodgers</td>\n",
       "      <td>QB</td>\n",
       "      <td>2024-04-18</td>\n",
       "    </tr>\n",
       "    <tr>\n",
       "      <th>1</th>\n",
       "      <td>1002</td>\n",
       "      <td>00-0023853</td>\n",
       "      <td>Matt</td>\n",
       "      <td>Prater</td>\n",
       "      <td>K</td>\n",
       "      <td>2024-04-18</td>\n",
       "    </tr>\n",
       "    <tr>\n",
       "      <th>2</th>\n",
       "      <td>1003</td>\n",
       "      <td>00-0024243</td>\n",
       "      <td>Marcedes</td>\n",
       "      <td>Lewis</td>\n",
       "      <td>TE</td>\n",
       "      <td>2024-04-18</td>\n",
       "    </tr>\n",
       "    <tr>\n",
       "      <th>3</th>\n",
       "      <td>1004</td>\n",
       "      <td>00-0025565</td>\n",
       "      <td>Nick</td>\n",
       "      <td>Folk</td>\n",
       "      <td>K</td>\n",
       "      <td>2024-04-18</td>\n",
       "    </tr>\n",
       "    <tr>\n",
       "      <th>4</th>\n",
       "      <td>1005</td>\n",
       "      <td>00-0025580</td>\n",
       "      <td>Mason</td>\n",
       "      <td>Crosby</td>\n",
       "      <td>K</td>\n",
       "      <td>2024-04-18</td>\n",
       "    </tr>\n",
       "  </tbody>\n",
       "</table>\n",
       "</div>"
      ],
      "text/plain": [
       "   player_id     gsis_id first_name last_name position last_changed_date\n",
       "0       1001  00-0023459      Aaron   Rodgers       QB        2024-04-18\n",
       "1       1002  00-0023853       Matt    Prater        K        2024-04-18\n",
       "2       1003  00-0024243   Marcedes     Lewis       TE        2024-04-18\n",
       "3       1004  00-0025565       Nick      Folk        K        2024-04-18\n",
       "4       1005  00-0025580      Mason    Crosby        K        2024-04-18"
      ]
     },
     "execution_count": 8,
     "metadata": {},
     "output_type": "execute_result"
    }
   ],
   "source": [
    "#try reading pandas directly from url\n",
    "\n",
    "#from io import BytesIO\n",
    "\n",
    "player_internet_df_direct = pd.read_parquet(parquet_file_url)\n",
    "\n",
    "player_internet_df_direct.head()"
   ]
  }
 ],
 "metadata": {
  "kernelspec": {
   "display_name": "Python 3",
   "language": "python",
   "name": "python3"
  },
  "language_info": {
   "codemirror_mode": {
    "name": "ipython",
    "version": 3
   },
   "file_extension": ".py",
   "mimetype": "text/x-python",
   "name": "python",
   "nbconvert_exporter": "python",
   "pygments_lexer": "ipython3",
   "version": "3.10.13"
  }
 },
 "nbformat": 4,
 "nbformat_minor": 2
}
